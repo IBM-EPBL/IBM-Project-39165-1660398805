{
 "cells": [
  {
   "cell_type": "markdown",
   "id": "4f73d27e",
   "metadata": {},
   "source": [
    "IMPORTING THE LIBRARIES"
   ]
  },
  {
   "cell_type": "code",
   "execution_count": 1,
   "id": "cd930173",
   "metadata": {},
   "outputs": [],
   "source": [
    "import numpy as np\n",
    "import pandas as pd\n",
    "import matplotlib.pyplot as plt\n",
    "import seaborn as sns\n",
    "%matplotlib inline"
   ]
  },
  {
   "cell_type": "markdown",
   "id": "f14ce3e5",
   "metadata": {},
   "source": [
    "READING & ANALYSING THE DATASET\n"
   ]
  },
  {
   "cell_type": "code",
   "execution_count": 4,
   "id": "4ae47b86",
   "metadata": {},
   "outputs": [
    {
     "data": {
      "text/html": [
       "<div>\n",
       "<style scoped>\n",
       "    .dataframe tbody tr th:only-of-type {\n",
       "        vertical-align: middle;\n",
       "    }\n",
       "\n",
       "    .dataframe tbody tr th {\n",
       "        vertical-align: top;\n",
       "    }\n",
       "\n",
       "    .dataframe thead th {\n",
       "        text-align: right;\n",
       "    }\n",
       "</style>\n",
       "<table border=\"1\" class=\"dataframe\">\n",
       "  <thead>\n",
       "    <tr style=\"text-align: right;\">\n",
       "      <th></th>\n",
       "      <th>Serial No.</th>\n",
       "      <th>GRE Score</th>\n",
       "      <th>TOEFL Score</th>\n",
       "      <th>University Rating</th>\n",
       "      <th>SOP</th>\n",
       "      <th>LOR</th>\n",
       "      <th>CGPA</th>\n",
       "      <th>Research</th>\n",
       "      <th>Chance of Admit</th>\n",
       "    </tr>\n",
       "  </thead>\n",
       "  <tbody>\n",
       "    <tr>\n",
       "      <th>0</th>\n",
       "      <td>1</td>\n",
       "      <td>337</td>\n",
       "      <td>118</td>\n",
       "      <td>4</td>\n",
       "      <td>4.5</td>\n",
       "      <td>4.5</td>\n",
       "      <td>9.65</td>\n",
       "      <td>1</td>\n",
       "      <td>0.92</td>\n",
       "    </tr>\n",
       "    <tr>\n",
       "      <th>1</th>\n",
       "      <td>2</td>\n",
       "      <td>324</td>\n",
       "      <td>107</td>\n",
       "      <td>4</td>\n",
       "      <td>4.0</td>\n",
       "      <td>4.5</td>\n",
       "      <td>8.87</td>\n",
       "      <td>1</td>\n",
       "      <td>0.76</td>\n",
       "    </tr>\n",
       "    <tr>\n",
       "      <th>2</th>\n",
       "      <td>3</td>\n",
       "      <td>316</td>\n",
       "      <td>104</td>\n",
       "      <td>3</td>\n",
       "      <td>3.0</td>\n",
       "      <td>3.5</td>\n",
       "      <td>8.00</td>\n",
       "      <td>1</td>\n",
       "      <td>0.72</td>\n",
       "    </tr>\n",
       "    <tr>\n",
       "      <th>3</th>\n",
       "      <td>4</td>\n",
       "      <td>322</td>\n",
       "      <td>110</td>\n",
       "      <td>3</td>\n",
       "      <td>3.5</td>\n",
       "      <td>2.5</td>\n",
       "      <td>8.67</td>\n",
       "      <td>1</td>\n",
       "      <td>0.80</td>\n",
       "    </tr>\n",
       "    <tr>\n",
       "      <th>4</th>\n",
       "      <td>5</td>\n",
       "      <td>314</td>\n",
       "      <td>103</td>\n",
       "      <td>2</td>\n",
       "      <td>2.0</td>\n",
       "      <td>3.0</td>\n",
       "      <td>8.21</td>\n",
       "      <td>0</td>\n",
       "      <td>0.65</td>\n",
       "    </tr>\n",
       "  </tbody>\n",
       "</table>\n",
       "</div>"
      ],
      "text/plain": [
       "   Serial No.  GRE Score  TOEFL Score  University Rating  SOP  LOR   CGPA  \\\n",
       "0           1        337          118                  4  4.5   4.5  9.65   \n",
       "1           2        324          107                  4  4.0   4.5  8.87   \n",
       "2           3        316          104                  3  3.0   3.5  8.00   \n",
       "3           4        322          110                  3  3.5   2.5  8.67   \n",
       "4           5        314          103                  2  2.0   3.0  8.21   \n",
       "\n",
       "   Research  Chance of Admit   \n",
       "0         1              0.92  \n",
       "1         1              0.76  \n",
       "2         1              0.72  \n",
       "3         1              0.80  \n",
       "4         0              0.65  "
      ]
     },
     "execution_count": 4,
     "metadata": {},
     "output_type": "execute_result"
    }
   ],
   "source": [
    "data=pd.read_csv(\"Downloads/Admission_Predict.csv\")\n",
    "data.head()"
   ]
  },
  {
   "cell_type": "code",
   "execution_count": 5,
   "id": "35a1aeb4",
   "metadata": {},
   "outputs": [
    {
     "data": {
      "text/html": [
       "<div>\n",
       "<style scoped>\n",
       "    .dataframe tbody tr th:only-of-type {\n",
       "        vertical-align: middle;\n",
       "    }\n",
       "\n",
       "    .dataframe tbody tr th {\n",
       "        vertical-align: top;\n",
       "    }\n",
       "\n",
       "    .dataframe thead th {\n",
       "        text-align: right;\n",
       "    }\n",
       "</style>\n",
       "<table border=\"1\" class=\"dataframe\">\n",
       "  <thead>\n",
       "    <tr style=\"text-align: right;\">\n",
       "      <th></th>\n",
       "      <th>GRE Score</th>\n",
       "      <th>TOEFL Score</th>\n",
       "      <th>University Rating</th>\n",
       "      <th>SOP</th>\n",
       "      <th>LOR</th>\n",
       "      <th>CGPA</th>\n",
       "      <th>Research</th>\n",
       "      <th>Chance of Admit</th>\n",
       "    </tr>\n",
       "  </thead>\n",
       "  <tbody>\n",
       "    <tr>\n",
       "      <th>0</th>\n",
       "      <td>337</td>\n",
       "      <td>118</td>\n",
       "      <td>4</td>\n",
       "      <td>4.5</td>\n",
       "      <td>4.5</td>\n",
       "      <td>9.65</td>\n",
       "      <td>1</td>\n",
       "      <td>0.92</td>\n",
       "    </tr>\n",
       "    <tr>\n",
       "      <th>1</th>\n",
       "      <td>324</td>\n",
       "      <td>107</td>\n",
       "      <td>4</td>\n",
       "      <td>4.0</td>\n",
       "      <td>4.5</td>\n",
       "      <td>8.87</td>\n",
       "      <td>1</td>\n",
       "      <td>0.76</td>\n",
       "    </tr>\n",
       "    <tr>\n",
       "      <th>2</th>\n",
       "      <td>316</td>\n",
       "      <td>104</td>\n",
       "      <td>3</td>\n",
       "      <td>3.0</td>\n",
       "      <td>3.5</td>\n",
       "      <td>8.00</td>\n",
       "      <td>1</td>\n",
       "      <td>0.72</td>\n",
       "    </tr>\n",
       "    <tr>\n",
       "      <th>3</th>\n",
       "      <td>322</td>\n",
       "      <td>110</td>\n",
       "      <td>3</td>\n",
       "      <td>3.5</td>\n",
       "      <td>2.5</td>\n",
       "      <td>8.67</td>\n",
       "      <td>1</td>\n",
       "      <td>0.80</td>\n",
       "    </tr>\n",
       "    <tr>\n",
       "      <th>4</th>\n",
       "      <td>314</td>\n",
       "      <td>103</td>\n",
       "      <td>2</td>\n",
       "      <td>2.0</td>\n",
       "      <td>3.0</td>\n",
       "      <td>8.21</td>\n",
       "      <td>0</td>\n",
       "      <td>0.65</td>\n",
       "    </tr>\n",
       "  </tbody>\n",
       "</table>\n",
       "</div>"
      ],
      "text/plain": [
       "   GRE Score  TOEFL Score  University Rating  SOP  LOR   CGPA  Research  \\\n",
       "0        337          118                  4  4.5   4.5  9.65         1   \n",
       "1        324          107                  4  4.0   4.5  8.87         1   \n",
       "2        316          104                  3  3.0   3.5  8.00         1   \n",
       "3        322          110                  3  3.5   2.5  8.67         1   \n",
       "4        314          103                  2  2.0   3.0  8.21         0   \n",
       "\n",
       "   Chance of Admit   \n",
       "0              0.92  \n",
       "1              0.76  \n",
       "2              0.72  \n",
       "3              0.80  \n",
       "4              0.65  "
      ]
     },
     "execution_count": 5,
     "metadata": {},
     "output_type": "execute_result"
    }
   ],
   "source": [
    "data.drop([\"Serial No.\"],axis=1,inplace=True)\n",
    "data.head()"
   ]
  },
  {
   "cell_type": "code",
   "execution_count": 6,
   "id": "f0832948",
   "metadata": {},
   "outputs": [
    {
     "data": {
      "text/html": [
       "<div>\n",
       "<style scoped>\n",
       "    .dataframe tbody tr th:only-of-type {\n",
       "        vertical-align: middle;\n",
       "    }\n",
       "\n",
       "    .dataframe tbody tr th {\n",
       "        vertical-align: top;\n",
       "    }\n",
       "\n",
       "    .dataframe thead th {\n",
       "        text-align: right;\n",
       "    }\n",
       "</style>\n",
       "<table border=\"1\" class=\"dataframe\">\n",
       "  <thead>\n",
       "    <tr style=\"text-align: right;\">\n",
       "      <th></th>\n",
       "      <th>GRE Score</th>\n",
       "      <th>TOEFL Score</th>\n",
       "      <th>University Rating</th>\n",
       "      <th>SOP</th>\n",
       "      <th>LOR</th>\n",
       "      <th>CGPA</th>\n",
       "      <th>Research</th>\n",
       "      <th>Chance of Admit</th>\n",
       "    </tr>\n",
       "  </thead>\n",
       "  <tbody>\n",
       "    <tr>\n",
       "      <th>count</th>\n",
       "      <td>400.000000</td>\n",
       "      <td>400.000000</td>\n",
       "      <td>400.000000</td>\n",
       "      <td>400.000000</td>\n",
       "      <td>400.000000</td>\n",
       "      <td>400.000000</td>\n",
       "      <td>400.000000</td>\n",
       "      <td>400.000000</td>\n",
       "    </tr>\n",
       "    <tr>\n",
       "      <th>mean</th>\n",
       "      <td>316.807500</td>\n",
       "      <td>107.410000</td>\n",
       "      <td>3.087500</td>\n",
       "      <td>3.400000</td>\n",
       "      <td>3.452500</td>\n",
       "      <td>8.598925</td>\n",
       "      <td>0.547500</td>\n",
       "      <td>0.724350</td>\n",
       "    </tr>\n",
       "    <tr>\n",
       "      <th>std</th>\n",
       "      <td>11.473646</td>\n",
       "      <td>6.069514</td>\n",
       "      <td>1.143728</td>\n",
       "      <td>1.006869</td>\n",
       "      <td>0.898478</td>\n",
       "      <td>0.596317</td>\n",
       "      <td>0.498362</td>\n",
       "      <td>0.142609</td>\n",
       "    </tr>\n",
       "    <tr>\n",
       "      <th>min</th>\n",
       "      <td>290.000000</td>\n",
       "      <td>92.000000</td>\n",
       "      <td>1.000000</td>\n",
       "      <td>1.000000</td>\n",
       "      <td>1.000000</td>\n",
       "      <td>6.800000</td>\n",
       "      <td>0.000000</td>\n",
       "      <td>0.340000</td>\n",
       "    </tr>\n",
       "    <tr>\n",
       "      <th>25%</th>\n",
       "      <td>308.000000</td>\n",
       "      <td>103.000000</td>\n",
       "      <td>2.000000</td>\n",
       "      <td>2.500000</td>\n",
       "      <td>3.000000</td>\n",
       "      <td>8.170000</td>\n",
       "      <td>0.000000</td>\n",
       "      <td>0.640000</td>\n",
       "    </tr>\n",
       "    <tr>\n",
       "      <th>50%</th>\n",
       "      <td>317.000000</td>\n",
       "      <td>107.000000</td>\n",
       "      <td>3.000000</td>\n",
       "      <td>3.500000</td>\n",
       "      <td>3.500000</td>\n",
       "      <td>8.610000</td>\n",
       "      <td>1.000000</td>\n",
       "      <td>0.730000</td>\n",
       "    </tr>\n",
       "    <tr>\n",
       "      <th>75%</th>\n",
       "      <td>325.000000</td>\n",
       "      <td>112.000000</td>\n",
       "      <td>4.000000</td>\n",
       "      <td>4.000000</td>\n",
       "      <td>4.000000</td>\n",
       "      <td>9.062500</td>\n",
       "      <td>1.000000</td>\n",
       "      <td>0.830000</td>\n",
       "    </tr>\n",
       "    <tr>\n",
       "      <th>max</th>\n",
       "      <td>340.000000</td>\n",
       "      <td>120.000000</td>\n",
       "      <td>5.000000</td>\n",
       "      <td>5.000000</td>\n",
       "      <td>5.000000</td>\n",
       "      <td>9.920000</td>\n",
       "      <td>1.000000</td>\n",
       "      <td>0.970000</td>\n",
       "    </tr>\n",
       "  </tbody>\n",
       "</table>\n",
       "</div>"
      ],
      "text/plain": [
       "        GRE Score  TOEFL Score  University Rating         SOP        LOR   \\\n",
       "count  400.000000   400.000000         400.000000  400.000000  400.000000   \n",
       "mean   316.807500   107.410000           3.087500    3.400000    3.452500   \n",
       "std     11.473646     6.069514           1.143728    1.006869    0.898478   \n",
       "min    290.000000    92.000000           1.000000    1.000000    1.000000   \n",
       "25%    308.000000   103.000000           2.000000    2.500000    3.000000   \n",
       "50%    317.000000   107.000000           3.000000    3.500000    3.500000   \n",
       "75%    325.000000   112.000000           4.000000    4.000000    4.000000   \n",
       "max    340.000000   120.000000           5.000000    5.000000    5.000000   \n",
       "\n",
       "             CGPA    Research  Chance of Admit   \n",
       "count  400.000000  400.000000        400.000000  \n",
       "mean     8.598925    0.547500          0.724350  \n",
       "std      0.596317    0.498362          0.142609  \n",
       "min      6.800000    0.000000          0.340000  \n",
       "25%      8.170000    0.000000          0.640000  \n",
       "50%      8.610000    1.000000          0.730000  \n",
       "75%      9.062500    1.000000          0.830000  \n",
       "max      9.920000    1.000000          0.970000  "
      ]
     },
     "execution_count": 6,
     "metadata": {},
     "output_type": "execute_result"
    }
   ],
   "source": [
    "data.describe()"
   ]
  },
  {
   "cell_type": "code",
   "execution_count": 7,
   "id": "e97d9caa",
   "metadata": {},
   "outputs": [
    {
     "name": "stdout",
     "output_type": "stream",
     "text": [
      "<class 'pandas.core.frame.DataFrame'>\n",
      "RangeIndex: 400 entries, 0 to 399\n",
      "Data columns (total 8 columns):\n",
      " #   Column             Non-Null Count  Dtype  \n",
      "---  ------             --------------  -----  \n",
      " 0   GRE Score          400 non-null    int64  \n",
      " 1   TOEFL Score        400 non-null    int64  \n",
      " 2   University Rating  400 non-null    int64  \n",
      " 3   SOP                400 non-null    float64\n",
      " 4   LOR                400 non-null    float64\n",
      " 5   CGPA               400 non-null    float64\n",
      " 6   Research           400 non-null    int64  \n",
      " 7   Chance of Admit    400 non-null    float64\n",
      "dtypes: float64(4), int64(4)\n",
      "memory usage: 25.1 KB\n"
     ]
    }
   ],
   "source": [
    "data.info()"
   ]
  },
  {
   "cell_type": "markdown",
   "id": "af241112",
   "metadata": {},
   "source": [
    "HANDLING MISSING VALUES"
   ]
  },
  {
   "cell_type": "code",
   "execution_count": 8,
   "id": "16147099",
   "metadata": {},
   "outputs": [
    {
     "data": {
      "text/plain": [
       "GRE Score            False\n",
       "TOEFL Score          False\n",
       "University Rating    False\n",
       "SOP                  False\n",
       "LOR                  False\n",
       "CGPA                 False\n",
       "Research             False\n",
       "Chance of Admit      False\n",
       "dtype: bool"
      ]
     },
     "execution_count": 8,
     "metadata": {},
     "output_type": "execute_result"
    }
   ],
   "source": [
    "data.isnull().any()"
   ]
  },
  {
   "cell_type": "code",
   "execution_count": 9,
   "id": "b3fac774",
   "metadata": {},
   "outputs": [
    {
     "data": {
      "text/plain": [
       "(400, 8)"
      ]
     },
     "execution_count": 9,
     "metadata": {},
     "output_type": "execute_result"
    }
   ],
   "source": [
    "data.shape"
   ]
  },
  {
   "cell_type": "code",
   "execution_count": 10,
   "id": "87c908a8",
   "metadata": {},
   "outputs": [
    {
     "data": {
      "text/plain": [
       "<bound method DataFrame.isnull of      GRE Score  TOEFL Score  University Rating  SOP  LOR   CGPA  Research  \\\n",
       "0          337          118                  4  4.5   4.5  9.65         1   \n",
       "1          324          107                  4  4.0   4.5  8.87         1   \n",
       "2          316          104                  3  3.0   3.5  8.00         1   \n",
       "3          322          110                  3  3.5   2.5  8.67         1   \n",
       "4          314          103                  2  2.0   3.0  8.21         0   \n",
       "..         ...          ...                ...  ...   ...   ...       ...   \n",
       "395        324          110                  3  3.5   3.5  9.04         1   \n",
       "396        325          107                  3  3.0   3.5  9.11         1   \n",
       "397        330          116                  4  5.0   4.5  9.45         1   \n",
       "398        312          103                  3  3.5   4.0  8.78         0   \n",
       "399        333          117                  4  5.0   4.0  9.66         1   \n",
       "\n",
       "     Chance of Admit   \n",
       "0                0.92  \n",
       "1                0.76  \n",
       "2                0.72  \n",
       "3                0.80  \n",
       "4                0.65  \n",
       "..                ...  \n",
       "395              0.82  \n",
       "396              0.84  \n",
       "397              0.91  \n",
       "398              0.67  \n",
       "399              0.95  \n",
       "\n",
       "[400 rows x 8 columns]>"
      ]
     },
     "execution_count": 10,
     "metadata": {},
     "output_type": "execute_result"
    }
   ],
   "source": [
    "data.isnull"
   ]
  },
  {
   "cell_type": "code",
   "execution_count": 11,
   "id": "d7095182",
   "metadata": {},
   "outputs": [
    {
     "data": {
      "text/plain": [
       "GRE Score            0\n",
       "TOEFL Score          0\n",
       "University Rating    0\n",
       "SOP                  0\n",
       "LOR                  0\n",
       "CGPA                 0\n",
       "Research             0\n",
       "Chance of Admit      0\n",
       "dtype: int64"
      ]
     },
     "execution_count": 11,
     "metadata": {},
     "output_type": "execute_result"
    }
   ],
   "source": [
    "data.isnull().sum()"
   ]
  },
  {
   "cell_type": "markdown",
   "id": "cb160e74",
   "metadata": {},
   "source": [
    "DATA VISUALIZATION"
   ]
  },
  {
   "cell_type": "code",
   "execution_count": 12,
   "id": "cbc02802",
   "metadata": {},
   "outputs": [
    {
     "data": {
      "text/plain": [
       "<AxesSubplot:xlabel='GRE Score', ylabel='Count'>"
      ]
     },
     "execution_count": 12,
     "metadata": {},
     "output_type": "execute_result"
    },
    {
     "data": {
      "image/png": "[encoded data removed]",
      "text/plain": [
       "<Figure size 432x288 with 1 Axes>"
      ]
     },
     "metadata": {
      "needs_background": "light"
     },
     "output_type": "display_data"
    }
   ],
   "source": [
    "sns.histplot(data[\"GRE Score\"],color='pink')"
   ]
  },
  {
   "cell_type": "code",
   "execution_count": 13,
   "id": "4ad08f61",
   "metadata": {},
   "outputs": [
    {
     "data": {
      "text/plain": [
       "<AxesSubplot:xlabel='TOEFL Score', ylabel='Count'>"
      ]
     },
     "execution_count": 13,
     "metadata": {},
     "output_type": "execute_result"
    },
    {
     "data": {
      "image/png": "[encoded data removed]",
      "text/plain": [
       "<Figure size 432x288 with 1 Axes>"
      ]
     },
     "metadata": {
      "needs_background": "light"
     },
     "output_type": "display_data"
    }
   ],
   "source": [
    "sns.histplot(data[\"TOEFL Score\"],color='violet')"
   ]
  },
  {
   "cell_type": "code",
   "execution_count": 14,
   "id": "c84c3cb0",
   "metadata": {},
   "outputs": [
    {
     "data": {
      "text/plain": [
       "<seaborn.axisgrid.FacetGrid at 0x2475fa68220>"
      ]
     },
     "execution_count": 14,
     "metadata": {},
     "output_type": "execute_result"
    },
    {
     "data": {
      "image/png": "[encoded data removed]",
      "text/plain": [
       "<Figure size 360x360 with 1 Axes>"
      ]
     },
     "metadata": {
      "needs_background": "light"
     },
     "output_type": "display_data"
    }
   ],
   "source": [
    "sns.displot(data[\"University Rating\"],color='indigo')"
   ]
  },
  {
   "cell_type": "code",
   "execution_count": 15,
   "id": "edda6ba2",
   "metadata": {},
   "outputs": [
    {
     "name": "stderr",
     "output_type": "stream",
     "text": [
      "C:\\Users\\Sudharsanan\\anaconda3\\lib\\site-packages\\seaborn\\_decorators.py:36: FutureWarning: Pass the following variable as a keyword arg: x. From version 0.12, the only valid positional argument will be `data`, and passing other arguments without an explicit keyword will result in an error or misinterpretation.\n",
      "  warnings.warn(\n"
     ]
    },
    {
     "data": {
      "text/plain": [
       "<AxesSubplot:xlabel='TOEFL Score'>"
      ]
     },
     "execution_count": 15,
     "metadata": {},
     "output_type": "execute_result"
    },
    {
     "data": {
      "image/png": "[encoded data removed]",
      "text/plain": [
       "<Figure size 432x288 with 1 Axes>"
      ]
     },
     "metadata": {
      "needs_background": "light"
     },
     "output_type": "display_data"
    }
   ],
   "source": [
    "sns.boxplot(data[\"TOEFL Score\"],color='gold')"
   ]
  },
  {
   "cell_type": "code",
   "execution_count": 16,
   "id": "54d75837",
   "metadata": {},
   "outputs": [
    {
     "name": "stderr",
     "output_type": "stream",
     "text": [
      "C:\\Users\\Sudharsanan\\anaconda3\\lib\\site-packages\\seaborn\\_decorators.py:36: FutureWarning: Pass the following variables as keyword args: x, y. From version 0.12, the only valid positional argument will be `data`, and passing other arguments without an explicit keyword will result in an error or misinterpretation.\n",
      "  warnings.warn(\n"
     ]
    },
    {
     "data": {
      "text/plain": [
       "<AxesSubplot:xlabel='GRE Score', ylabel='SOP'>"
      ]
     },
     "execution_count": 16,
     "metadata": {},
     "output_type": "execute_result"
    },
    {
     "data": {
      "image/png": "[encoded data removed]",
      "text/plain": [
       "<Figure size 432x288 with 1 Axes>"
      ]
     },
     "metadata": {
      "needs_background": "light"
     },
     "output_type": "display_data"
    }
   ],
   "source": [
    "sns.lineplot(data[\"GRE Score\"],data[\"SOP\"], color='aqua')"
   ]
  },
  {
   "cell_type": "markdown",
   "id": "e4808407",
   "metadata": {},
   "source": [
    "SPLITTING DEPENDENT AND INDEPENDENT COLUMNS"
   ]
  },
  {
   "cell_type": "code",
   "execution_count": 17,
   "id": "9cb66ee9",
   "metadata": {},
   "outputs": [
    {
     "data": {
      "text/plain": [
       "array([[337.  , 118.  ,   4.  , ...,   4.5 ,   9.65,   1.  ],\n",
       "       [324.  , 107.  ,   4.  , ...,   4.5 ,   8.87,   1.  ],\n",
       "       [316.  , 104.  ,   3.  , ...,   3.5 ,   8.  ,   1.  ],\n",
       "       ...,\n",
       "       [330.  , 116.  ,   4.  , ...,   4.5 ,   9.45,   1.  ],\n",
       "       [312.  , 103.  ,   3.  , ...,   4.  ,   8.78,   0.  ],\n",
       "       [333.  , 117.  ,   4.  , ...,   4.  ,   9.66,   1.  ]])"
      ]
     },
     "execution_count": 17,
     "metadata": {},
     "output_type": "execute_result"
    }
   ],
   "source": [
    "x=data.iloc[:,0:7].values\n",
    "x"
   ]
  },
  {
   "cell_type": "code",
   "execution_count": 18,
   "id": "6331da5f",
   "metadata": {},
   "outputs": [
    {
     "data": {
      "text/plain": [
       "array([[0.92],\n",
       "       [0.76],\n",
       "       [0.72],\n",
       "       [0.8 ],\n",
       "       [0.65],\n",
       "       [0.9 ],\n",
       "       [0.75],\n",
       "       [0.68],\n",
       "       [0.5 ],\n",
       "       [0.45],\n",
       "       [0.52],\n",
       "       [0.84],\n",
       "       [0.78],\n",
       "       [0.62],\n",
       "       [0.61],\n",
       "       [0.54],\n",
       "       [0.66],\n",
       "       [0.65],\n",
       "       [0.63],\n",
       "       [0.62],\n",
       "       [0.64],\n",
       "       [0.7 ],\n",
       "       [0.94],\n",
       "       [0.95],\n",
       "       [0.97],\n",
       "       [0.94],\n",
       "       [0.76],\n",
       "       [0.44],\n",
       "       [0.46],\n",
       "       [0.54],\n",
       "       [0.65],\n",
       "       [0.74],\n",
       "       [0.91],\n",
       "       [0.9 ],\n",
       "       [0.94],\n",
       "       [0.88],\n",
       "       [0.64],\n",
       "       [0.58],\n",
       "       [0.52],\n",
       "       [0.48],\n",
       "       [0.46],\n",
       "       [0.49],\n",
       "       [0.53],\n",
       "       [0.87],\n",
       "       [0.91],\n",
       "       [0.88],\n",
       "       [0.86],\n",
       "       [0.89],\n",
       "       [0.82],\n",
       "       [0.78],\n",
       "       [0.76],\n",
       "       [0.56],\n",
       "       [0.78],\n",
       "       [0.72],\n",
       "       [0.7 ],\n",
       "       [0.64],\n",
       "       [0.64],\n",
       "       [0.46],\n",
       "       [0.36],\n",
       "       [0.42],\n",
       "       [0.48],\n",
       "       [0.47],\n",
       "       [0.54],\n",
       "       [0.56],\n",
       "       [0.52],\n",
       "       [0.55],\n",
       "       [0.61],\n",
       "       [0.57],\n",
       "       [0.68],\n",
       "       [0.78],\n",
       "       [0.94],\n",
       "       [0.96],\n",
       "       [0.93],\n",
       "       [0.84],\n",
       "       [0.74],\n",
       "       [0.72],\n",
       "       [0.74],\n",
       "       [0.64],\n",
       "       [0.44],\n",
       "       [0.46],\n",
       "       [0.5 ],\n",
       "       [0.96],\n",
       "       [0.92],\n",
       "       [0.92],\n",
       "       [0.94],\n",
       "       [0.76],\n",
       "       [0.72],\n",
       "       [0.66],\n",
       "       [0.64],\n",
       "       [0.74],\n",
       "       [0.64],\n",
       "       [0.38],\n",
       "       [0.34],\n",
       "       [0.44],\n",
       "       [0.36],\n",
       "       [0.42],\n",
       "       [0.48],\n",
       "       [0.86],\n",
       "       [0.9 ],\n",
       "       [0.79],\n",
       "       [0.71],\n",
       "       [0.64],\n",
       "       [0.62],\n",
       "       [0.57],\n",
       "       [0.74],\n",
       "       [0.69],\n",
       "       [0.87],\n",
       "       [0.91],\n",
       "       [0.93],\n",
       "       [0.68],\n",
       "       [0.61],\n",
       "       [0.69],\n",
       "       [0.62],\n",
       "       [0.72],\n",
       "       [0.59],\n",
       "       [0.66],\n",
       "       [0.56],\n",
       "       [0.45],\n",
       "       [0.47],\n",
       "       [0.71],\n",
       "       [0.94],\n",
       "       [0.94],\n",
       "       [0.57],\n",
       "       [0.61],\n",
       "       [0.57],\n",
       "       [0.64],\n",
       "       [0.85],\n",
       "       [0.78],\n",
       "       [0.84],\n",
       "       [0.92],\n",
       "       [0.96],\n",
       "       [0.77],\n",
       "       [0.71],\n",
       "       [0.79],\n",
       "       [0.89],\n",
       "       [0.82],\n",
       "       [0.76],\n",
       "       [0.71],\n",
       "       [0.8 ],\n",
       "       [0.78],\n",
       "       [0.84],\n",
       "       [0.9 ],\n",
       "       [0.92],\n",
       "       [0.97],\n",
       "       [0.8 ],\n",
       "       [0.81],\n",
       "       [0.75],\n",
       "       [0.83],\n",
       "       [0.96],\n",
       "       [0.79],\n",
       "       [0.93],\n",
       "       [0.94],\n",
       "       [0.86],\n",
       "       [0.79],\n",
       "       [0.8 ],\n",
       "       [0.77],\n",
       "       [0.7 ],\n",
       "       [0.65],\n",
       "       [0.61],\n",
       "       [0.52],\n",
       "       [0.57],\n",
       "       [0.53],\n",
       "       [0.67],\n",
       "       [0.68],\n",
       "       [0.81],\n",
       "       [0.78],\n",
       "       [0.65],\n",
       "       [0.64],\n",
       "       [0.64],\n",
       "       [0.65],\n",
       "       [0.68],\n",
       "       [0.89],\n",
       "       [0.86],\n",
       "       [0.89],\n",
       "       [0.87],\n",
       "       [0.85],\n",
       "       [0.9 ],\n",
       "       [0.82],\n",
       "       [0.72],\n",
       "       [0.73],\n",
       "       [0.71],\n",
       "       [0.71],\n",
       "       [0.68],\n",
       "       [0.75],\n",
       "       [0.72],\n",
       "       [0.89],\n",
       "       [0.84],\n",
       "       [0.93],\n",
       "       [0.93],\n",
       "       [0.88],\n",
       "       [0.9 ],\n",
       "       [0.87],\n",
       "       [0.86],\n",
       "       [0.94],\n",
       "       [0.77],\n",
       "       [0.78],\n",
       "       [0.73],\n",
       "       [0.73],\n",
       "       [0.7 ],\n",
       "       [0.72],\n",
       "       [0.73],\n",
       "       [0.72],\n",
       "       [0.97],\n",
       "       [0.97],\n",
       "       [0.69],\n",
       "       [0.57],\n",
       "       [0.63],\n",
       "       [0.66],\n",
       "       [0.64],\n",
       "       [0.68],\n",
       "       [0.79],\n",
       "       [0.82],\n",
       "       [0.95],\n",
       "       [0.96],\n",
       "       [0.94],\n",
       "       [0.93],\n",
       "       [0.91],\n",
       "       [0.85],\n",
       "       [0.84],\n",
       "       [0.74],\n",
       "       [0.76],\n",
       "       [0.75],\n",
       "       [0.76],\n",
       "       [0.71],\n",
       "       [0.67],\n",
       "       [0.61],\n",
       "       [0.63],\n",
       "       [0.64],\n",
       "       [0.71],\n",
       "       [0.82],\n",
       "       [0.73],\n",
       "       [0.74],\n",
       "       [0.69],\n",
       "       [0.64],\n",
       "       [0.91],\n",
       "       [0.88],\n",
       "       [0.85],\n",
       "       [0.86],\n",
       "       [0.7 ],\n",
       "       [0.59],\n",
       "       [0.6 ],\n",
       "       [0.65],\n",
       "       [0.7 ],\n",
       "       [0.76],\n",
       "       [0.63],\n",
       "       [0.81],\n",
       "       [0.72],\n",
       "       [0.71],\n",
       "       [0.8 ],\n",
       "       [0.77],\n",
       "       [0.74],\n",
       "       [0.7 ],\n",
       "       [0.71],\n",
       "       [0.93],\n",
       "       [0.85],\n",
       "       [0.79],\n",
       "       [0.76],\n",
       "       [0.78],\n",
       "       [0.77],\n",
       "       [0.9 ],\n",
       "       [0.87],\n",
       "       [0.71],\n",
       "       [0.7 ],\n",
       "       [0.7 ],\n",
       "       [0.75],\n",
       "       [0.71],\n",
       "       [0.72],\n",
       "       [0.73],\n",
       "       [0.83],\n",
       "       [0.77],\n",
       "       [0.72],\n",
       "       [0.54],\n",
       "       [0.49],\n",
       "       [0.52],\n",
       "       [0.58],\n",
       "       [0.78],\n",
       "       [0.89],\n",
       "       [0.7 ],\n",
       "       [0.66],\n",
       "       [0.67],\n",
       "       [0.68],\n",
       "       [0.8 ],\n",
       "       [0.81],\n",
       "       [0.8 ],\n",
       "       [0.94],\n",
       "       [0.93],\n",
       "       [0.92],\n",
       "       [0.89],\n",
       "       [0.82],\n",
       "       [0.79],\n",
       "       [0.58],\n",
       "       [0.56],\n",
       "       [0.56],\n",
       "       [0.64],\n",
       "       [0.61],\n",
       "       [0.68],\n",
       "       [0.76],\n",
       "       [0.86],\n",
       "       [0.9 ],\n",
       "       [0.71],\n",
       "       [0.62],\n",
       "       [0.66],\n",
       "       [0.65],\n",
       "       [0.73],\n",
       "       [0.62],\n",
       "       [0.74],\n",
       "       [0.79],\n",
       "       [0.8 ],\n",
       "       [0.69],\n",
       "       [0.7 ],\n",
       "       [0.76],\n",
       "       [0.84],\n",
       "       [0.78],\n",
       "       [0.67],\n",
       "       [0.66],\n",
       "       [0.65],\n",
       "       [0.54],\n",
       "       [0.58],\n",
       "       [0.79],\n",
       "       [0.8 ],\n",
       "       [0.75],\n",
       "       [0.73],\n",
       "       [0.72],\n",
       "       [0.62],\n",
       "       [0.67],\n",
       "       [0.81],\n",
       "       [0.63],\n",
       "       [0.69],\n",
       "       [0.8 ],\n",
       "       [0.43],\n",
       "       [0.8 ],\n",
       "       [0.73],\n",
       "       [0.75],\n",
       "       [0.71],\n",
       "       [0.73],\n",
       "       [0.83],\n",
       "       [0.72],\n",
       "       [0.94],\n",
       "       [0.81],\n",
       "       [0.81],\n",
       "       [0.75],\n",
       "       [0.79],\n",
       "       [0.58],\n",
       "       [0.59],\n",
       "       [0.47],\n",
       "       [0.49],\n",
       "       [0.47],\n",
       "       [0.42],\n",
       "       [0.57],\n",
       "       [0.62],\n",
       "       [0.74],\n",
       "       [0.73],\n",
       "       [0.64],\n",
       "       [0.63],\n",
       "       [0.59],\n",
       "       [0.73],\n",
       "       [0.79],\n",
       "       [0.68],\n",
       "       [0.7 ],\n",
       "       [0.81],\n",
       "       [0.85],\n",
       "       [0.93],\n",
       "       [0.91],\n",
       "       [0.69],\n",
       "       [0.77],\n",
       "       [0.86],\n",
       "       [0.74],\n",
       "       [0.57],\n",
       "       [0.51],\n",
       "       [0.67],\n",
       "       [0.72],\n",
       "       [0.89],\n",
       "       [0.95],\n",
       "       [0.79],\n",
       "       [0.39],\n",
       "       [0.38],\n",
       "       [0.34],\n",
       "       [0.47],\n",
       "       [0.56],\n",
       "       [0.71],\n",
       "       [0.78],\n",
       "       [0.73],\n",
       "       [0.82],\n",
       "       [0.62],\n",
       "       [0.96],\n",
       "       [0.96],\n",
       "       [0.46],\n",
       "       [0.53],\n",
       "       [0.49],\n",
       "       [0.76],\n",
       "       [0.64],\n",
       "       [0.71],\n",
       "       [0.84],\n",
       "       [0.77],\n",
       "       [0.89],\n",
       "       [0.82],\n",
       "       [0.84],\n",
       "       [0.91],\n",
       "       [0.67],\n",
       "       [0.95]])"
      ]
     },
     "execution_count": 18,
     "metadata": {},
     "output_type": "execute_result"
    }
   ],
   "source": [
    "y=data.iloc[:,7:].values\n",
    "y"
   ]
  },
  {
   "cell_type": "code",
   "execution_count": 19,
   "id": "4d42a8f7",
   "metadata": {},
   "outputs": [
    {
     "data": {
      "text/plain": [
       "(400, 7)"
      ]
     },
     "execution_count": 19,
     "metadata": {},
     "output_type": "execute_result"
    }
   ],
   "source": [
    "x.shape"
   ]
  },
  {
   "cell_type": "code",
   "execution_count": 20,
   "id": "f65be0af",
   "metadata": {},
   "outputs": [
    {
     "data": {
      "text/plain": [
       "(400, 1)"
      ]
     },
     "execution_count": 20,
     "metadata": {},
     "output_type": "execute_result"
    }
   ],
   "source": [
    "y.shape"
   ]
  },
  {
   "cell_type": "markdown",
   "id": "1c56a240",
   "metadata": {},
   "source": [
    "SPLIT THE DATA INTO TRAIN AND TEST"
   ]
  },
  {
   "cell_type": "code",
   "execution_count": 21,
   "id": "e77a871f",
   "metadata": {},
   "outputs": [],
   "source": [
    "from sklearn.model_selection import train_test_split\n",
    "X_train, X_test, y_train, y_test = train_test_split(x, y, test_size=0.2,random_state=10)"
   ]
  },
  {
   "cell_type": "code",
   "execution_count": 22,
   "id": "aeafb977",
   "metadata": {},
   "outputs": [
    {
     "data": {
      "text/plain": [
       "((320, 7), (80, 7))"
      ]
     },
     "execution_count": 22,
     "metadata": {},
     "output_type": "execute_result"
    }
   ],
   "source": [
    "X_train.shape, X_test.shape"
   ]
  },
  {
   "cell_type": "code",
   "execution_count": 23,
   "id": "5c2d5a46",
   "metadata": {},
   "outputs": [
    {
     "data": {
      "text/plain": [
       "((320, 1), (80, 1))"
      ]
     },
     "execution_count": 23,
     "metadata": {},
     "output_type": "execute_result"
    }
   ],
   "source": [
    "y_train.shape, y_test.shape"
   ]
  },
  {
   "cell_type": "code",
   "execution_count": 24,
   "id": "24f60d0b",
   "metadata": {},
   "outputs": [
    {
     "data": {
      "text/plain": [
       "array([[ True],\n",
       "       [ True],\n",
       "       [ True],\n",
       "       [ True],\n",
       "       [ True],\n",
       "       [ True],\n",
       "       [ True],\n",
       "       [ True],\n",
       "       [ True],\n",
       "       [ True],\n",
       "       [ True],\n",
       "       [ True],\n",
       "       [ True],\n",
       "       [ True],\n",
       "       [ True],\n",
       "       [ True],\n",
       "       [ True],\n",
       "       [ True],\n",
       "       [ True],\n",
       "       [False],\n",
       "       [False],\n",
       "       [ True],\n",
       "       [ True],\n",
       "       [ True],\n",
       "       [ True],\n",
       "       [False],\n",
       "       [ True],\n",
       "       [False],\n",
       "       [ True],\n",
       "       [ True],\n",
       "       [ True],\n",
       "       [ True],\n",
       "       [ True],\n",
       "       [ True],\n",
       "       [False],\n",
       "       [ True],\n",
       "       [ True],\n",
       "       [ True],\n",
       "       [False],\n",
       "       [ True],\n",
       "       [ True],\n",
       "       [ True],\n",
       "       [ True],\n",
       "       [ True],\n",
       "       [ True],\n",
       "       [ True],\n",
       "       [ True],\n",
       "       [ True],\n",
       "       [ True],\n",
       "       [ True],\n",
       "       [ True],\n",
       "       [ True],\n",
       "       [ True],\n",
       "       [ True],\n",
       "       [ True],\n",
       "       [ True],\n",
       "       [ True],\n",
       "       [ True],\n",
       "       [ True],\n",
       "       [ True],\n",
       "       [ True],\n",
       "       [ True],\n",
       "       [ True],\n",
       "       [ True],\n",
       "       [ True],\n",
       "       [ True],\n",
       "       [ True],\n",
       "       [ True],\n",
       "       [ True],\n",
       "       [ True],\n",
       "       [ True],\n",
       "       [ True],\n",
       "       [ True],\n",
       "       [ True],\n",
       "       [ True],\n",
       "       [ True],\n",
       "       [ True],\n",
       "       [ True],\n",
       "       [ True],\n",
       "       [ True],\n",
       "       [False],\n",
       "       [ True],\n",
       "       [ True],\n",
       "       [ True],\n",
       "       [ True],\n",
       "       [ True],\n",
       "       [ True],\n",
       "       [ True],\n",
       "       [False],\n",
       "       [ True],\n",
       "       [ True],\n",
       "       [ True],\n",
       "       [ True],\n",
       "       [ True],\n",
       "       [ True],\n",
       "       [ True],\n",
       "       [ True],\n",
       "       [ True],\n",
       "       [ True],\n",
       "       [ True],\n",
       "       [ True],\n",
       "       [False],\n",
       "       [ True],\n",
       "       [ True],\n",
       "       [ True],\n",
       "       [ True],\n",
       "       [ True],\n",
       "       [ True],\n",
       "       [False],\n",
       "       [ True],\n",
       "       [ True],\n",
       "       [False],\n",
       "       [ True],\n",
       "       [ True],\n",
       "       [ True],\n",
       "       [ True],\n",
       "       [ True],\n",
       "       [ True],\n",
       "       [ True],\n",
       "       [ True],\n",
       "       [ True],\n",
       "       [ True],\n",
       "       [False],\n",
       "       [ True],\n",
       "       [ True],\n",
       "       [ True],\n",
       "       [ True],\n",
       "       [ True],\n",
       "       [ True],\n",
       "       [ True],\n",
       "       [ True],\n",
       "       [ True],\n",
       "       [ True],\n",
       "       [ True],\n",
       "       [ True],\n",
       "       [ True],\n",
       "       [ True],\n",
       "       [ True],\n",
       "       [ True],\n",
       "       [ True],\n",
       "       [ True],\n",
       "       [ True],\n",
       "       [ True],\n",
       "       [ True],\n",
       "       [ True],\n",
       "       [ True],\n",
       "       [ True],\n",
       "       [ True],\n",
       "       [ True],\n",
       "       [ True],\n",
       "       [ True],\n",
       "       [ True],\n",
       "       [ True],\n",
       "       [ True],\n",
       "       [ True],\n",
       "       [ True],\n",
       "       [ True],\n",
       "       [ True],\n",
       "       [ True],\n",
       "       [False],\n",
       "       [ True],\n",
       "       [False],\n",
       "       [False],\n",
       "       [False],\n",
       "       [ True],\n",
       "       [ True],\n",
       "       [ True],\n",
       "       [ True],\n",
       "       [ True],\n",
       "       [ True],\n",
       "       [ True],\n",
       "       [ True],\n",
       "       [ True],\n",
       "       [ True],\n",
       "       [ True],\n",
       "       [ True],\n",
       "       [ True],\n",
       "       [ True],\n",
       "       [ True],\n",
       "       [ True],\n",
       "       [ True],\n",
       "       [ True],\n",
       "       [ True],\n",
       "       [ True],\n",
       "       [ True],\n",
       "       [ True],\n",
       "       [ True],\n",
       "       [ True],\n",
       "       [ True],\n",
       "       [ True],\n",
       "       [ True],\n",
       "       [ True],\n",
       "       [ True],\n",
       "       [ True],\n",
       "       [ True],\n",
       "       [ True],\n",
       "       [ True],\n",
       "       [False],\n",
       "       [ True],\n",
       "       [False],\n",
       "       [ True],\n",
       "       [ True],\n",
       "       [ True],\n",
       "       [ True],\n",
       "       [ True],\n",
       "       [ True],\n",
       "       [ True],\n",
       "       [ True],\n",
       "       [ True],\n",
       "       [ True],\n",
       "       [ True],\n",
       "       [False],\n",
       "       [ True],\n",
       "       [ True],\n",
       "       [ True],\n",
       "       [ True],\n",
       "       [ True],\n",
       "       [ True],\n",
       "       [ True],\n",
       "       [ True],\n",
       "       [ True],\n",
       "       [ True],\n",
       "       [ True],\n",
       "       [False],\n",
       "       [ True],\n",
       "       [ True],\n",
       "       [ True],\n",
       "       [ True],\n",
       "       [ True],\n",
       "       [ True],\n",
       "       [ True],\n",
       "       [ True],\n",
       "       [ True],\n",
       "       [ True],\n",
       "       [ True],\n",
       "       [ True],\n",
       "       [ True],\n",
       "       [False],\n",
       "       [ True],\n",
       "       [ True],\n",
       "       [ True],\n",
       "       [ True],\n",
       "       [ True],\n",
       "       [ True],\n",
       "       [ True],\n",
       "       [ True],\n",
       "       [ True],\n",
       "       [ True],\n",
       "       [ True],\n",
       "       [ True],\n",
       "       [ True],\n",
       "       [ True],\n",
       "       [ True],\n",
       "       [ True],\n",
       "       [False],\n",
       "       [ True],\n",
       "       [ True],\n",
       "       [ True],\n",
       "       [ True],\n",
       "       [ True],\n",
       "       [ True],\n",
       "       [ True],\n",
       "       [ True],\n",
       "       [ True],\n",
       "       [ True],\n",
       "       [ True],\n",
       "       [False],\n",
       "       [False],\n",
       "       [ True],\n",
       "       [ True],\n",
       "       [ True],\n",
       "       [ True],\n",
       "       [ True],\n",
       "       [False],\n",
       "       [False],\n",
       "       [False],\n",
       "       [ True],\n",
       "       [ True],\n",
       "       [ True],\n",
       "       [ True],\n",
       "       [ True],\n",
       "       [ True],\n",
       "       [ True],\n",
       "       [ True],\n",
       "       [ True],\n",
       "       [ True],\n",
       "       [ True],\n",
       "       [ True],\n",
       "       [ True],\n",
       "       [ True],\n",
       "       [ True],\n",
       "       [ True],\n",
       "       [ True],\n",
       "       [ True],\n",
       "       [ True],\n",
       "       [ True],\n",
       "       [ True],\n",
       "       [ True],\n",
       "       [ True],\n",
       "       [ True],\n",
       "       [ True],\n",
       "       [False],\n",
       "       [ True],\n",
       "       [ True],\n",
       "       [ True],\n",
       "       [ True],\n",
       "       [ True],\n",
       "       [False],\n",
       "       [ True],\n",
       "       [ True],\n",
       "       [False],\n",
       "       [ True],\n",
       "       [ True],\n",
       "       [ True],\n",
       "       [ True],\n",
       "       [ True],\n",
       "       [ True],\n",
       "       [ True],\n",
       "       [ True],\n",
       "       [ True]])"
      ]
     },
     "execution_count": 24,
     "metadata": {},
     "output_type": "execute_result"
    }
   ],
   "source": [
    "y_train=(y_train>0.5)\n",
    "y_train"
   ]
  },
  {
   "cell_type": "code",
   "execution_count": 25,
   "id": "40ad4ada",
   "metadata": {},
   "outputs": [],
   "source": [
    "y_test=(y_test>0.5)"
   ]
  },
  {
   "cell_type": "markdown",
   "id": "d136b0f4",
   "metadata": {},
   "source": [
    "MODEL BUILDING"
   ]
  },
  {
   "cell_type": "code",
   "execution_count": 26,
   "id": "29b54983",
   "metadata": {},
   "outputs": [],
   "source": [
    "from sklearn.ensemble import RandomForestClassifier\n",
    "model = RandomForestClassifier(n_estimators=10,criterion='entropy')"
   ]
  },
  {
   "cell_type": "code",
   "execution_count": 27,
   "id": "357370c9",
   "metadata": {},
   "outputs": [
    {
     "name": "stderr",
     "output_type": "stream",
     "text": [
      "C:\\Users\\Sudharsanan\\AppData\\Local\\Temp\\ipykernel_15988\\2721349307.py:1: DataConversionWarning: A column-vector y was passed when a 1d array was expected. Please change the shape of y to (n_samples,), for example using ravel().\n",
      "  model.fit(X_train,y_train)\n"
     ]
    },
    {
     "data": {
      "text/plain": [
       "RandomForestClassifier(criterion='entropy', n_estimators=10)"
      ]
     },
     "execution_count": 27,
     "metadata": {},
     "output_type": "execute_result"
    }
   ],
   "source": [
    "model.fit(X_train,y_train)"
   ]
  },
  {
   "cell_type": "code",
   "execution_count": 28,
   "id": "09d08523",
   "metadata": {},
   "outputs": [],
   "source": [
    "y_predict = model.predict(X_test)"
   ]
  },
  {
   "cell_type": "code",
   "execution_count": 29,
   "id": "3daf36cc",
   "metadata": {},
   "outputs": [],
   "source": [
    "y_predict_train = model.predict(X_train)"
   ]
  },
  {
   "cell_type": "markdown",
   "id": "b69017c6",
   "metadata": {},
   "source": [
    "TRAINING & TESTING THE MODEL AND EVALUATION"
   ]
  },
  {
   "cell_type": "code",
   "execution_count": 30,
   "id": "cdd7e229",
   "metadata": {},
   "outputs": [
    {
     "name": "stdout",
     "output_type": "stream",
     "text": [
      "\n",
      "Accuracy score:93.750000\n",
      "Recall score:97.333333\n",
      "ROC Score:68.666667\n",
      "\n",
      "[[ 2  3]\n",
      " [ 2 73]]\n"
     ]
    }
   ],
   "source": [
    "from sklearn.metrics import accuracy_score,recall_score,roc_auc_score,confusion_matrix,classification_report\n",
    "print(\"\\nAccuracy score:%f\" %(accuracy_score(y_test,y_predict)*100))\n",
    "print(\"Recall score:%f\" %(recall_score(y_test,y_predict)*100))\n",
    "print(\"ROC Score:%f\\n\"%(roc_auc_score(y_test,y_predict)*100))\n",
    "print(confusion_matrix(y_test,y_predict))"
   ]
  },
  {
   "cell_type": "code",
   "execution_count": 31,
   "id": "60020611",
   "metadata": {},
   "outputs": [
    {
     "name": "stdout",
     "output_type": "stream",
     "text": [
      "Training accuracy: 99.375\n"
     ]
    }
   ],
   "source": [
    "print(\"Training accuracy:\",accuracy_score(y_train,y_predict_train)*100)"
   ]
  },
  {
   "cell_type": "code",
   "execution_count": 32,
   "id": "ea0bd94f",
   "metadata": {},
   "outputs": [
    {
     "name": "stdout",
     "output_type": "stream",
     "text": [
      "Testing accuracy: 93.75\n"
     ]
    }
   ],
   "source": [
    "\n",
    "print(\"Testing accuracy:\",accuracy_score(y_test,y_predict)*100)"
   ]
  },
  {
   "cell_type": "markdown",
   "id": "29b66440",
   "metadata": {},
   "source": [
    "SAVE THE MODEL"
   ]
  },
  {
   "cell_type": "code",
   "execution_count": 33,
   "id": "8b06bb2a",
   "metadata": {},
   "outputs": [],
   "source": [
    "import pickle\n",
    "pickle.dump(model,open('university.pkl','wb'))\n",
    "model1=pickle.load(open('university.pkl','rb'))"
   ]
  },
  {
   "cell_type": "code",
   "execution_count": null,
   "id": "45a89918",
   "metadata": {},
   "outputs": [],
   "source": []
  }
 ],
 "metadata": {
  "kernelspec": {
   "display_name": "Python 3 (ipykernel)",
   "language": "python",
   "name": "python3"
  },
  "language_info": {
   "codemirror_mode": {
    "name": "ipython",
    "version": 3
   },
   "file_extension": ".py",
   "mimetype": "text/x-python",
   "name": "python",
   "nbconvert_exporter": "python",
   "pygments_lexer": "ipython3",
   "version": "3.9.12"
  }
 },
 "nbformat": 4,
 "nbformat_minor": 5
}
